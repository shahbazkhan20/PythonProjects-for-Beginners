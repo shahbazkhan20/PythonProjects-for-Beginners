{
 "cells": [
  {
   "cell_type": "markdown",
   "id": "bd6dd134",
   "metadata": {},
   "source": [
    "# BMI Calculator\n"
   ]
  },
  {
   "cell_type": "code",
   "execution_count": 14,
   "id": "c307ed06",
   "metadata": {},
   "outputs": [
    {
     "name": "stdout",
     "output_type": "stream",
     "text": [
      "Enter your name: Shahbaz\n",
      "Enter your weight in pounds: 162\n",
      "Enter your height in inches: 69\n",
      "23.920604914933836\n",
      "Shahbaz, You Are Normal Weight\n"
     ]
    }
   ],
   "source": [
    "# Calculate Your Body Mass Index\n",
    "\n",
    "name = input(\"Enter your name: \")\n",
    "\n",
    "weight = int(input(\"Enter your weight in pounds: \" ))\n",
    "\n",
    "height = int(input( \"Enter your height in inches: \"))\n",
    "\n",
    "BMI = (weight * 703) / (height * height) #BMI = (weight in pounds x 703) / (height in inches x height in inches)\n",
    "\n",
    "\n",
    "print(BMI)\n",
    "\n",
    "\n",
    "\n",
    "if BMI > 0:\n",
    "    if(BMI < 18.5):\n",
    "        print(name + \", You Are Underweight\")\n",
    "    elif(BMI <= 24.9):\n",
    "        print(name + \", You Are Normal Weight\")\n",
    "    elif(BMI <= 29.9):\n",
    "        print(name + \", You Are Overweight\")\n",
    "    elif(BMI <= 34.9):\n",
    "        print(name + \", You Are Obese\")\n",
    "    elif(BMI <= 39.9):\n",
    "        print(name + \", You Are Severely Obese\")\n",
    "    else:\n",
    "        print(name + \", You Are Morbidly Obese\")\n",
    "else:\n",
    "    print(\"Enter valid input\")\n",
    "        \n"
   ]
  },
  {
   "cell_type": "code",
   "execution_count": null,
   "id": "92e3b72e",
   "metadata": {},
   "outputs": [],
   "source": []
  },
  {
   "cell_type": "markdown",
   "id": "21543e09",
   "metadata": {},
   "source": [
    " Body Mass Index       //   Classification //             Health Risk     \n",
    "  \n",
    "Under 18.5\t //    Underweight     //    \t  Minimal\n",
    " \n",
    "18.5 - 24.9\t  //   Normal Weight\t  //            Minimal\n",
    "\n",
    "25 - 29.9\t   //    Overweight\t   //          Increased\n",
    "\n",
    "30 - 34.9\t   //      Obese\t       //             High\n",
    "\n",
    "35 - 39.9\t   //   Severely Obese\t//          Very High\n",
    "\n",
    "40 and over\t    //  Morbidly Obese\t//          Extremely High"
   ]
  },
  {
   "cell_type": "code",
   "execution_count": null,
   "id": "3aeb8450",
   "metadata": {},
   "outputs": [],
   "source": []
  },
  {
   "cell_type": "code",
   "execution_count": null,
   "id": "ceeca11d",
   "metadata": {},
   "outputs": [],
   "source": []
  },
  {
   "cell_type": "code",
   "execution_count": null,
   "id": "22b52e97",
   "metadata": {},
   "outputs": [],
   "source": []
  },
  {
   "cell_type": "code",
   "execution_count": null,
   "id": "a1578f21",
   "metadata": {},
   "outputs": [],
   "source": []
  },
  {
   "cell_type": "code",
   "execution_count": null,
   "id": "bd5c316b",
   "metadata": {},
   "outputs": [],
   "source": []
  },
  {
   "cell_type": "code",
   "execution_count": null,
   "id": "63bcff0e",
   "metadata": {},
   "outputs": [],
   "source": []
  },
  {
   "cell_type": "code",
   "execution_count": null,
   "id": "d433be6f",
   "metadata": {},
   "outputs": [],
   "source": []
  },
  {
   "cell_type": "code",
   "execution_count": null,
   "id": "7f5eb590",
   "metadata": {},
   "outputs": [],
   "source": []
  },
  {
   "cell_type": "code",
   "execution_count": null,
   "id": "01015f95",
   "metadata": {},
   "outputs": [],
   "source": []
  },
  {
   "cell_type": "code",
   "execution_count": null,
   "id": "bf76825a",
   "metadata": {},
   "outputs": [],
   "source": []
  },
  {
   "cell_type": "code",
   "execution_count": null,
   "id": "979c6dd4",
   "metadata": {},
   "outputs": [],
   "source": []
  },
  {
   "cell_type": "code",
   "execution_count": null,
   "id": "b227d69b",
   "metadata": {},
   "outputs": [],
   "source": []
  },
  {
   "cell_type": "code",
   "execution_count": null,
   "id": "7f05a225",
   "metadata": {},
   "outputs": [],
   "source": []
  },
  {
   "cell_type": "code",
   "execution_count": null,
   "id": "61327309",
   "metadata": {},
   "outputs": [],
   "source": []
  },
  {
   "cell_type": "code",
   "execution_count": null,
   "id": "146203cd",
   "metadata": {},
   "outputs": [],
   "source": []
  },
  {
   "cell_type": "code",
   "execution_count": null,
   "id": "895f826e",
   "metadata": {},
   "outputs": [],
   "source": []
  },
  {
   "cell_type": "code",
   "execution_count": null,
   "id": "30260a5f",
   "metadata": {},
   "outputs": [],
   "source": []
  },
  {
   "cell_type": "code",
   "execution_count": null,
   "id": "12fb4bd7",
   "metadata": {},
   "outputs": [],
   "source": []
  },
  {
   "cell_type": "code",
   "execution_count": null,
   "id": "8c115b32",
   "metadata": {},
   "outputs": [],
   "source": []
  },
  {
   "cell_type": "code",
   "execution_count": null,
   "id": "15225778",
   "metadata": {},
   "outputs": [],
   "source": []
  },
  {
   "cell_type": "code",
   "execution_count": null,
   "id": "b39f7bcf",
   "metadata": {},
   "outputs": [],
   "source": []
  }
 ],
 "metadata": {
  "kernelspec": {
   "display_name": "Python 3 (ipykernel)",
   "language": "python",
   "name": "python3"
  },
  "language_info": {
   "codemirror_mode": {
    "name": "ipython",
    "version": 3
   },
   "file_extension": ".py",
   "mimetype": "text/x-python",
   "name": "python",
   "nbconvert_exporter": "python",
   "pygments_lexer": "ipython3",
   "version": "3.10.9"
  }
 },
 "nbformat": 4,
 "nbformat_minor": 5
}

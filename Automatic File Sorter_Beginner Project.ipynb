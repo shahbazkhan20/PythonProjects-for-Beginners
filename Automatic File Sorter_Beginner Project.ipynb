{
 "cells": [
  {
   "cell_type": "markdown",
   "id": "ab75e292",
   "metadata": {},
   "source": [
    "# Automatic File Sorter In File Explorer"
   ]
  },
  {
   "cell_type": "code",
   "execution_count": 68,
   "id": "ab9c8574",
   "metadata": {},
   "outputs": [],
   "source": [
    "import os, shutil"
   ]
  },
  {
   "cell_type": "code",
   "execution_count": 69,
   "id": "780439b6",
   "metadata": {},
   "outputs": [],
   "source": [
    "path = r'C:/Users/gulrez khan/Desktop/Python Tutorial/'"
   ]
  },
  {
   "cell_type": "code",
   "execution_count": 70,
   "id": "806a0a5d",
   "metadata": {},
   "outputs": [
    {
     "data": {
      "text/plain": [
       "['ILTQq.png',\n",
       " 'images.png',\n",
       " 'SHAHBAZKHAN_InternshalaResume (3).txt',\n",
       " 'Shahbaz_khan_resume_2.pdf',\n",
       " 'zomato.csv']"
      ]
     },
     "execution_count": 70,
     "metadata": {},
     "output_type": "execute_result"
    }
   ],
   "source": [
    "file_name = os.listdir(path)\n",
    "file_name"
   ]
  },
  {
   "cell_type": "code",
   "execution_count": 71,
   "id": "9697ece8",
   "metadata": {},
   "outputs": [
    {
     "name": "stdout",
     "output_type": "stream",
     "text": [
      "C:/Users/gulrez khan/Desktop/Python Tutorial/csv files\n",
      "C:/Users/gulrez khan/Desktop/Python Tutorial/image files\n",
      "C:/Users/gulrez khan/Desktop/Python Tutorial/text files\n",
      "C:/Users/gulrez khan/Desktop/Python Tutorial/pdf files\n"
     ]
    }
   ],
   "source": [
    "folder_names = ['csv files', 'image files', 'text files', 'pdf files']\n",
    "\n",
    "for loop in range(0,4):\n",
    "    if not os.path.exists(path + folder_names[loop]):\n",
    "        #print(path + folder_names[loop])\n",
    "        os.makedirs((path + folder_names[loop]))\n",
    "        \n",
    "        \n",
    "for file in file_name:\n",
    "    if \".csv\" in file and not os.path.exists(path + \"csv files/\" + file):\n",
    "        shutil.move(path + file, path + \"csv files/\" + file)\n",
    "    elif \".png\" in file and not os.path.exists(path + \"image files/\" + file):\n",
    "        shutil.move(path + file, path + \"image files/\" + file)\n",
    "    elif \".txt\" in file and not os.path.exists(path + \"text files/\" + file):\n",
    "        shutil.move(path + file, path + \"text files/\" + file)\n",
    "    elif \".pdf\" in file and not os.path.exists(path + \"pdf files/\" + file):\n",
    "        shutil.move(path + file, path + \"pdf files/\" + file)\n",
    "       \n",
    "        \n",
    "        \n"
   ]
  },
  {
   "cell_type": "code",
   "execution_count": null,
   "id": "ea7ea882",
   "metadata": {},
   "outputs": [],
   "source": []
  }
 ],
 "metadata": {
  "kernelspec": {
   "display_name": "Python 3 (ipykernel)",
   "language": "python",
   "name": "python3"
  },
  "language_info": {
   "codemirror_mode": {
    "name": "ipython",
    "version": 3
   },
   "file_extension": ".py",
   "mimetype": "text/x-python",
   "name": "python",
   "nbconvert_exporter": "python",
   "pygments_lexer": "ipython3",
   "version": "3.10.9"
  }
 },
 "nbformat": 4,
 "nbformat_minor": 5
}
